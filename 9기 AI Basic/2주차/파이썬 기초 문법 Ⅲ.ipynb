{
 "cells": [
  {
   "cell_type": "markdown",
   "id": "6aba3a8f",
   "metadata": {},
   "source": [
    "# OOP"
   ]
  },
  {
   "cell_type": "markdown",
   "id": "47fb9ca0",
   "metadata": {},
   "source": [
    "## 파이썬에서 __ 의미\n",
    "- __는 특수한 예약 함수나 변수 그리고 함수명 변경(맨글링)으로 사용\n",
    "- 예) $__main__$, $__add__$, $__str__$, $__eq__$"
   ]
  },
  {
   "cell_type": "code",
   "execution_count": 13,
   "id": "c89514c2",
   "metadata": {},
   "outputs": [],
   "source": [
    "class SoccerPlayer(object):\n",
    "    def __init__(self, name : str, position : str, back_number : int): # 객체 초기화 예약 함수\n",
    "        self.name=name\n",
    "        self.position=position\n",
    "        self.back_number=back_number"
   ]
  },
  {
   "cell_type": "code",
   "execution_count": 14,
   "id": "41a4b4c9",
   "metadata": {},
   "outputs": [],
   "source": [
    "son=SoccerPlayer('son','FW',7)\n",
    "park=SoccerPlayer('park','WF',13)"
   ]
  },
  {
   "cell_type": "code",
   "execution_count": 15,
   "id": "33ad3f62",
   "metadata": {},
   "outputs": [
    {
     "data": {
      "text/plain": [
       "False"
      ]
     },
     "execution_count": 15,
     "metadata": {},
     "output_type": "execute_result"
    }
   ],
   "source": [
    "son is park"
   ]
  },
  {
   "cell_type": "code",
   "execution_count": 16,
   "id": "0672625b",
   "metadata": {},
   "outputs": [
    {
     "name": "stdout",
     "output_type": "stream",
     "text": [
      "<__main__.SoccerPlayer object at 0x0000026D345360A0>\n",
      "<__main__.SoccerPlayer object at 0x0000026D34532A60>\n"
     ]
    }
   ],
   "source": [
    "print(son)\n",
    "print(park)"
   ]
  },
  {
   "cell_type": "code",
   "execution_count": 20,
   "id": "68ae5d34",
   "metadata": {},
   "outputs": [],
   "source": [
    "class SoccerPlayer(object):\n",
    "    def __init__(self, name : str, position : str, back_number : int): # 객체 초기화 예약 함수\n",
    "        self.name=name\n",
    "        self.position=position\n",
    "        self.back_number=back_number\n",
    "        \n",
    "    def __str__(self): # print\n",
    "        return 'Hello. My name is %s. My back number is %d' %(self.name, self.back_number)"
   ]
  },
  {
   "cell_type": "code",
   "execution_count": 21,
   "id": "7e4b2cdf",
   "metadata": {},
   "outputs": [],
   "source": [
    "son=SoccerPlayer('son','FW',7)\n",
    "park=SoccerPlayer('park','WF',13)"
   ]
  },
  {
   "cell_type": "code",
   "execution_count": 22,
   "id": "ed90e774",
   "metadata": {},
   "outputs": [
    {
     "name": "stdout",
     "output_type": "stream",
     "text": [
      "Hello. My name is park. My back number is 13\n"
     ]
    }
   ],
   "source": [
    "print(park)"
   ]
  },
  {
   "cell_type": "code",
   "execution_count": 23,
   "id": "e5147917",
   "metadata": {},
   "outputs": [],
   "source": [
    "class SoccerPlayer(object):\n",
    "    def __init__(self, name : str, position : str, back_number : int): # 객체 초기화 예약 함수\n",
    "        self.name=name\n",
    "        self.position=position\n",
    "        self.back_number=back_number\n",
    "        \n",
    "    def __str__(self):\n",
    "        return 'Hello. My name is %s. My back number is %d' %(self.name, self.back_number)\n",
    "    \n",
    "    def __add__(self,other):\n",
    "        return self.name + other.name"
   ]
  },
  {
   "cell_type": "code",
   "execution_count": 24,
   "id": "f7b8c33e",
   "metadata": {},
   "outputs": [],
   "source": [
    "son=SoccerPlayer('son','FW',7)\n",
    "park=SoccerPlayer('park','WF',13)"
   ]
  },
  {
   "cell_type": "code",
   "execution_count": 25,
   "id": "f14844b7",
   "metadata": {},
   "outputs": [
    {
     "data": {
      "text/plain": [
       "'sonpark'"
      ]
     },
     "execution_count": 25,
     "metadata": {},
     "output_type": "execute_result"
    }
   ],
   "source": [
    "son+park"
   ]
  },
  {
   "cell_type": "markdown",
   "id": "0b16a8be",
   "metadata": {},
   "source": [
    "### method 구현하기\n",
    "method(Action) 추가는 기존 함수와 같으나, 반드시 `self`를 추가해야만 class 함수로 인정됨\n",
    "- `self` : 생성된 instance"
   ]
  },
  {
   "cell_type": "code",
   "execution_count": 26,
   "id": "8aca7e53",
   "metadata": {},
   "outputs": [],
   "source": [
    "class SoccerPlayer(object):\n",
    "    def __init__(self, name : str, position : str, back_number : int): # 객체 초기화 예약 함수\n",
    "        self.name=name\n",
    "        self.position=position\n",
    "        self.back_number=back_number\n",
    "    \n",
    "    def change_back_number(self,new_number):\n",
    "        print('선수의 등번호를 변경합니다 : From %d to %d' %(self.back_number, new_number))\n",
    "        self.back_number=new_number\n",
    "    \n",
    "    def __str__(self):\n",
    "        return 'Hello. My name is %s. My back number is %d' %(self.name, self.back_number)"
   ]
  },
  {
   "cell_type": "code",
   "execution_count": 27,
   "id": "d0aa5437",
   "metadata": {},
   "outputs": [
    {
     "name": "stdout",
     "output_type": "stream",
     "text": [
      "Hello. My name is Jinhyun. My back number is 10\n"
     ]
    }
   ],
   "source": [
    "choi=SoccerPlayer('Jinhyun', 'mf',10)\n",
    "print(choi)"
   ]
  },
  {
   "cell_type": "code",
   "execution_count": 28,
   "id": "277bd61e",
   "metadata": {},
   "outputs": [
    {
     "name": "stdout",
     "output_type": "stream",
     "text": [
      "선수의 등번호를 변경합니다 : From 10 to 7\n",
      "Hello. My name is Jinhyun. My back number is 7\n"
     ]
    }
   ],
   "source": [
    "choi.change_back_number(7)\n",
    "print(choi)"
   ]
  },
  {
   "cell_type": "code",
   "execution_count": null,
   "id": "f5ed3038",
   "metadata": {},
   "outputs": [],
   "source": []
  },
  {
   "cell_type": "markdown",
   "id": "91bcb9a0",
   "metadata": {},
   "source": [
    "## 구현가능한 OOP 만들기 - 노트북\n",
    "- Note를 정리하는 프로그램\n",
    "- 사용자는 Note에 뭔가를 적을 수 있다.\n",
    "- Note에는 Content가 있고, 내용을 제거할 수 있다.\n",
    "- 두 개의 노트북을 합쳐 하나로 만들 수 있다.\n",
    "- Note는 Notebook에 삽입된다.\n",
    "- Notebook은 Note가 삽입될 때 페이지를 생성하며, 최고 300페이지까지 저장 가능하다.\n",
    "- 300페이지가 넘으면 더 이상 노트를 삽입하지 못한다."
   ]
  },
  {
   "cell_type": "code",
   "execution_count": 29,
   "id": "52c3ea8e",
   "metadata": {},
   "outputs": [],
   "source": [
    "class Note(object):\n",
    "    def __init__(self, content = None):\n",
    "        self.content=content\n",
    "        \n",
    "    def write_content(self, content):\n",
    "        self.content = content\n",
    "    \n",
    "    def remove_all(self):\n",
    "        self.content = \"\"\n",
    "        \n",
    "    def __add__(self, other):\n",
    "        return self.content + otehr.content\n",
    "    \n",
    "    def __str__(self):\n",
    "        return self.content"
   ]
  },
  {
   "cell_type": "code",
   "execution_count": 30,
   "id": "6db76c93",
   "metadata": {},
   "outputs": [],
   "source": [
    "class NoteBook(object):\n",
    "    def __init__(self, title):\n",
    "        self.title=title\n",
    "        self.page_number=1\n",
    "        self.notes={}\n",
    "    \n",
    "    def add_note(self, note, page = 0):\n",
    "        if self.page_number < 300:\n",
    "            if page == 0:\n",
    "                self.notes[self.page_number]=note\n",
    "                self.page_number+=1\n",
    "            else:\n",
    "                self.notes={page:note}\n",
    "                self.page_number+=1\n",
    "        else:\n",
    "            print('Page가 모두 채워졌습니다.')\n",
    "    \n",
    "    def remove_note(self, page_number):\n",
    "        if page_number in self.notes.keys():\n",
    "            return self.notes.pop(page_number)\n",
    "        else:\n",
    "            print('해당 페이지는 존재하지 않습니다.')\n",
    "            \n",
    "    def get_number_of_pages(self):\n",
    "        return len(self.notes.keys())"
   ]
  },
  {
   "cell_type": "markdown",
   "id": "2b38e26c",
   "metadata": {},
   "source": [
    "## 상속(Inheritance)\n",
    "부모클래스로부터 속성과 Method를 물려받은 자식 클래스를 생성하는 것"
   ]
  },
  {
   "cell_type": "code",
   "execution_count": 31,
   "id": "24314ccf",
   "metadata": {},
   "outputs": [],
   "source": [
    "class Person(object):\n",
    "    def __init__(self, name, age):\n",
    "        self.name=name\n",
    "        self.age=age\n",
    "        \n",
    "    def __str__(self):\n",
    "        return '저의 이름은 {0} 입니다. 나이는 {1} 입니다.'.format(self.name, self.age)"
   ]
  },
  {
   "cell_type": "code",
   "execution_count": 32,
   "id": "5240a8d1",
   "metadata": {},
   "outputs": [],
   "source": [
    "class Korean(Person):\n",
    "    pass"
   ]
  },
  {
   "cell_type": "code",
   "execution_count": 33,
   "id": "3cac5fe2",
   "metadata": {},
   "outputs": [
    {
     "name": "stdout",
     "output_type": "stream",
     "text": [
      "저의 이름은 Sungchul 입니다. 나이는 35 입니다.\n"
     ]
    }
   ],
   "source": [
    "first_korean=Korean('Sungchul',35)\n",
    "print(first_korean)"
   ]
  },
  {
   "cell_type": "code",
   "execution_count": 34,
   "id": "cdd442f9",
   "metadata": {},
   "outputs": [],
   "source": [
    "class Person: # 부모 클래스 Person 선언\n",
    "    def __init__(self, name, age, gender):\n",
    "        self.name=name # 속성값 지정, 해당 변수가 클래스의 attribute임을 명확히하기 위해\n",
    "        self.age=age\n",
    "        self.gender=gender\n",
    "        \n",
    "    def about_me(self): # Method 선언\n",
    "        print('저의 이름은 ',  self.name, '이구요, 제 나이는 ', str(self.age),'살 입니다.')\n",
    "        \n",
    "    def __str__(self):\n",
    "        return '저의 이름은 ',  self.name, '이구요, 제 나이는 ', str(self.age),'살 입니다.'"
   ]
  },
  {
   "cell_type": "code",
   "execution_count": 35,
   "id": "7eff161b",
   "metadata": {},
   "outputs": [],
   "source": [
    "class Employee(Person): # 부모 클래스 Person으로 부터 상속\n",
    "    def __init__(self, name, age, gender, salary, hire_date):\n",
    "        super().__init__(name, age, gender) # 부모 객체 사용\n",
    "        self.salary=salary\n",
    "        self.hire_date=hire_date # 속성값 추가\n",
    "        \n",
    "    def do_work(self): # 새로운 메서드 추가\n",
    "        print('열심히 일을 합니다.')\n",
    "    \n",
    "    def about_me(self):\n",
    "        super().about_me()\n",
    "        print('제 급여는 ', self.salary, '원 이구요, 제 입사일은 ',self.hire_date,'입니다.')"
   ]
  },
  {
   "cell_type": "code",
   "execution_count": 36,
   "id": "26105fa6",
   "metadata": {},
   "outputs": [],
   "source": [
    "myPerson=Person('John',34,'Male')\n",
    "myEmployee=Employee('Daeho',34,'Male',300000,'2012/03/01')"
   ]
  },
  {
   "cell_type": "code",
   "execution_count": 37,
   "id": "6b6e4866",
   "metadata": {},
   "outputs": [
    {
     "name": "stdout",
     "output_type": "stream",
     "text": [
      "저의 이름은  John 이구요, 제 나이는  34 살 입니다.\n"
     ]
    }
   ],
   "source": [
    "myPerson.about_me()"
   ]
  },
  {
   "cell_type": "code",
   "execution_count": 38,
   "id": "e44e82e0",
   "metadata": {},
   "outputs": [
    {
     "name": "stdout",
     "output_type": "stream",
     "text": [
      "저의 이름은  Daeho 이구요, 제 나이는  34 살 입니다.\n",
      "제 급여는  300000 원 이구요, 제 입사일은  2012/03/01 입니다.\n"
     ]
    }
   ],
   "source": [
    "myEmployee.about_me()"
   ]
  },
  {
   "cell_type": "markdown",
   "id": "83e23792",
   "metadata": {},
   "source": [
    "## 다형성(Polymorphism)\n",
    "같은 이름 메소드의 내부 로직을 다르게 작성\n",
    "- Dynamic Typing 특성으로 인해 파이썬에서는 같은 부모클래스의 상속에서 주로 발생함\n",
    "- 중요한 OOP의 개념 그러나 너무 깊이 알 필요 X"
   ]
  },
  {
   "cell_type": "code",
   "execution_count": 39,
   "id": "b9d0cebf",
   "metadata": {},
   "outputs": [],
   "source": [
    "class Animal:\n",
    "    def __init__(self,name):\n",
    "        self.name=name\n",
    "    def talk(self):\n",
    "        raise NotImplementedError('Subclass must implement abstract method')"
   ]
  },
  {
   "cell_type": "code",
   "execution_count": 40,
   "id": "6514e8d5",
   "metadata": {},
   "outputs": [],
   "source": [
    "class Cat(Animal):\n",
    "    def talk(self):\n",
    "        return 'Meow!'"
   ]
  },
  {
   "cell_type": "code",
   "execution_count": 41,
   "id": "22223ff1",
   "metadata": {},
   "outputs": [],
   "source": [
    "class Dog(Animal):\n",
    "    def talk(self):\n",
    "        return 'Woof! Woof!'"
   ]
  },
  {
   "cell_type": "code",
   "execution_count": 42,
   "id": "af71d971",
   "metadata": {},
   "outputs": [],
   "source": [
    "animals=[Cat('Missy'),\n",
    "        Cat('Mr.Mistoffelees'),\n",
    "        Dog('Lassie')]"
   ]
  },
  {
   "cell_type": "code",
   "execution_count": 43,
   "id": "ecbc837a",
   "metadata": {},
   "outputs": [
    {
     "name": "stdout",
     "output_type": "stream",
     "text": [
      "Missy: Meow!\n",
      "Mr.Mistoffelees: Meow!\n",
      "Lassie: Woof! Woof!\n"
     ]
    }
   ],
   "source": [
    "for animal in animals:\n",
    "    print(animal.name+': '+animal.talk())"
   ]
  },
  {
   "cell_type": "markdown",
   "id": "4f410fb2",
   "metadata": {},
   "source": [
    "## 가시성(Visibility)\n",
    "객체의 정보를 볼 수 있는 레벨을 조절하는 것\n",
    "- 누구나 객체 안에 모든 변수를 볼 필요가 없음\n",
    "    - 객체를 사용하는 사용자가 임의로 정보 수정\n",
    "    - 필요없는 정보에는 접근할 필요가 없음\n",
    "    - 만약 제품으로 판매한다면? 소스의 보호"
   ]
  },
  {
   "cell_type": "markdown",
   "id": "7f2d1e85",
   "metadata": {},
   "source": [
    "### Encapsulation\n",
    "캡슐화 또는 은닉(Information Hiding)\n",
    "- Class를 설계할 때, 클래스 간 간섭/정보공유의 최소화\n",
    "- 심판 클래스가 축구선수 클래스 가족 정보를 알아야 하나?\n",
    "- 캡슐을 던지듯, 인터페이스만 알아서 써야함"
   ]
  },
  {
   "cell_type": "code",
   "execution_count": 52,
   "id": "002af9ff",
   "metadata": {},
   "outputs": [],
   "source": [
    "class Product(object):\n",
    "    pass"
   ]
  },
  {
   "cell_type": "code",
   "execution_count": 53,
   "id": "7f3cf00c",
   "metadata": {},
   "outputs": [],
   "source": [
    "class Inventory(object):\n",
    "    def __init__(self):\n",
    "        self.items=[]\n",
    "        self.test='abc'\n",
    "    \n",
    "    def add_new_item(self, product):\n",
    "        if type(product)==Product:\n",
    "            self.items.append(product)\n",
    "            print('new item added')\n",
    "        else:\n",
    "            raise ValueError('Invalid Item')\n",
    "    \n",
    "    def get_number_of_items(self):\n",
    "        return len(self.items)"
   ]
  },
  {
   "cell_type": "code",
   "execution_count": 54,
   "id": "3642dc72",
   "metadata": {},
   "outputs": [
    {
     "name": "stdout",
     "output_type": "stream",
     "text": [
      "new item added\n",
      "new item added\n"
     ]
    }
   ],
   "source": [
    "my_inventory=Inventory()\n",
    "\n",
    "my_inventory.add_new_item(Product())\n",
    "my_inventory.add_new_item(Product())"
   ]
  },
  {
   "cell_type": "code",
   "execution_count": 55,
   "id": "45c7d07d",
   "metadata": {},
   "outputs": [],
   "source": [
    "my_inventory.items.append('abc')\n",
    "my_inventory.items.append('abc')\n",
    "my_inventory.items.append('abc')\n",
    "my_inventory.items.append('abc')"
   ]
  },
  {
   "cell_type": "code",
   "execution_count": 56,
   "id": "2b3fe835",
   "metadata": {},
   "outputs": [],
   "source": [
    "class Inventory(object):\n",
    "    def __init__(self):\n",
    "        self.__items=[] # __ 작성 -> 숨김처리\n",
    "        self.test='abc'\n",
    "    \n",
    "    def add_new_item(self, product):\n",
    "        if type(product)==Product:\n",
    "            self.__items.append(product)\n",
    "            print('new item added')\n",
    "        else:\n",
    "            raise ValueError('Invalid Item')\n",
    "    \n",
    "    def get_number_of_items(self):\n",
    "        return len(self.items)"
   ]
  },
  {
   "cell_type": "code",
   "execution_count": 57,
   "id": "171ef796",
   "metadata": {},
   "outputs": [
    {
     "name": "stdout",
     "output_type": "stream",
     "text": [
      "new item added\n",
      "new item added\n"
     ]
    }
   ],
   "source": [
    "my_inventory=Inventory()\n",
    "\n",
    "my_inventory.add_new_item(Product())\n",
    "my_inventory.add_new_item(Product())"
   ]
  },
  {
   "cell_type": "code",
   "execution_count": 59,
   "id": "36601a76",
   "metadata": {},
   "outputs": [
    {
     "ename": "AttributeError",
     "evalue": "'Inventory' object has no attribute '__items'",
     "output_type": "error",
     "traceback": [
      "\u001b[1;31m---------------------------------------------------------------------------\u001b[0m",
      "\u001b[1;31mAttributeError\u001b[0m                            Traceback (most recent call last)",
      "Input \u001b[1;32mIn [59]\u001b[0m, in \u001b[0;36m<cell line: 1>\u001b[1;34m()\u001b[0m\n\u001b[1;32m----> 1\u001b[0m \u001b[43mmy_inventory\u001b[49m\u001b[38;5;241;43m.\u001b[39;49m\u001b[43m__items\u001b[49m\n",
      "\u001b[1;31mAttributeError\u001b[0m: 'Inventory' object has no attribute '__items'"
     ]
    }
   ],
   "source": [
    "my_inventory.__items # 접근 불가"
   ]
  },
  {
   "cell_type": "code",
   "execution_count": 60,
   "id": "21e7d7e9",
   "metadata": {},
   "outputs": [
    {
     "ename": "AttributeError",
     "evalue": "'Inventory' object has no attribute 'items'",
     "output_type": "error",
     "traceback": [
      "\u001b[1;31m---------------------------------------------------------------------------\u001b[0m",
      "\u001b[1;31mAttributeError\u001b[0m                            Traceback (most recent call last)",
      "Input \u001b[1;32mIn [60]\u001b[0m, in \u001b[0;36m<cell line: 1>\u001b[1;34m()\u001b[0m\n\u001b[1;32m----> 1\u001b[0m \u001b[43mmy_inventory\u001b[49m\u001b[38;5;241;43m.\u001b[39;49m\u001b[43mitems\u001b[49m\u001b[38;5;241m.\u001b[39mappend(\u001b[38;5;124m'\u001b[39m\u001b[38;5;124mabc\u001b[39m\u001b[38;5;124m'\u001b[39m)\n",
      "\u001b[1;31mAttributeError\u001b[0m: 'Inventory' object has no attribute 'items'"
     ]
    }
   ],
   "source": [
    "my_inventory.items.append('abc')"
   ]
  },
  {
   "cell_type": "code",
   "execution_count": 61,
   "id": "a6c265a8",
   "metadata": {},
   "outputs": [],
   "source": [
    "class Inventory(object):\n",
    "    def __init__(self):\n",
    "        self.__items=[] # __ 작성 -> 숨김처리\n",
    "        self.test='abc'\n",
    "    \n",
    "    def add_new_item(self, product):\n",
    "        if type(product)==Product:\n",
    "            self.__items.append(product)\n",
    "            print('new item added')\n",
    "        else:\n",
    "            raise ValueError('Invalid Item')\n",
    "    \n",
    "    def get_number_of_items(self):\n",
    "        return len(self.items)\n",
    "    \n",
    "    @property # 내부 객체에 접근할 수 있게\n",
    "    def items(self):\n",
    "        return self.__items"
   ]
  },
  {
   "cell_type": "code",
   "execution_count": 62,
   "id": "9b30ca68",
   "metadata": {},
   "outputs": [
    {
     "name": "stdout",
     "output_type": "stream",
     "text": [
      "new item added\n",
      "new item added\n"
     ]
    }
   ],
   "source": [
    "my_inventory=Inventory()\n",
    "\n",
    "my_inventory.add_new_item(Product())\n",
    "my_inventory.add_new_item(Product())"
   ]
  },
  {
   "cell_type": "code",
   "execution_count": 63,
   "id": "ad9eb98d",
   "metadata": {},
   "outputs": [
    {
     "data": {
      "text/plain": [
       "[<__main__.Product at 0x26d35880c10>, <__main__.Product at 0x26d356ead30>]"
      ]
     },
     "execution_count": 63,
     "metadata": {},
     "output_type": "execute_result"
    }
   ],
   "source": [
    "my_inventory.items # 접근 가능"
   ]
  },
  {
   "cell_type": "markdown",
   "id": "26e2ea15",
   "metadata": {},
   "source": [
    "## First-class objects\n",
    "일등함수 또는 일급 객체\n",
    "- 변수나 데이터 구조에 할당이 가능한 객체\n",
    "- 파라미터로 전달이 가능 + 리턴 값으로 사용"
   ]
  },
  {
   "cell_type": "code",
   "execution_count": 64,
   "id": "0dd53a2e",
   "metadata": {},
   "outputs": [],
   "source": [
    "def square(x):\n",
    "    return x*x"
   ]
  },
  {
   "cell_type": "code",
   "execution_count": 65,
   "id": "7b07af2d",
   "metadata": {},
   "outputs": [
    {
     "data": {
      "text/plain": [
       "25"
      ]
     },
     "execution_count": 65,
     "metadata": {},
     "output_type": "execute_result"
    }
   ],
   "source": [
    "f=square\n",
    "f(5)"
   ]
  },
  {
   "cell_type": "markdown",
   "id": "4719e018",
   "metadata": {},
   "source": [
    "### Inner function\n",
    "함수 내에 또 다른 함수가 존재"
   ]
  },
  {
   "cell_type": "code",
   "execution_count": 67,
   "id": "4fa80207",
   "metadata": {},
   "outputs": [
    {
     "name": "stdout",
     "output_type": "stream",
     "text": [
      "Hello, Python\n"
     ]
    }
   ],
   "source": [
    "def print_msg(msg):\n",
    "    def printer():\n",
    "        print(msg)\n",
    "    printer()\n",
    "\n",
    "print_msg('Hello, Python')"
   ]
  },
  {
   "cell_type": "markdown",
   "id": "1f2c68e2",
   "metadata": {},
   "source": [
    "closures:inner function을 return 값으로 반환"
   ]
  },
  {
   "cell_type": "code",
   "execution_count": 69,
   "id": "4dafa51a",
   "metadata": {},
   "outputs": [
    {
     "name": "stdout",
     "output_type": "stream",
     "text": [
      "Hello, Python\n"
     ]
    }
   ],
   "source": [
    "def print_msg(msg):\n",
    "    def printer():\n",
    "        print(msg)\n",
    "    printer()\n",
    "\n",
    "another=print_msg('Hello, Python')\n",
    "another"
   ]
  },
  {
   "cell_type": "markdown",
   "id": "a660481d",
   "metadata": {},
   "source": [
    "## decorator function\n",
    "복잡한 클로져 함수를 간단하게!"
   ]
  },
  {
   "cell_type": "code",
   "execution_count": 70,
   "id": "d1b09492",
   "metadata": {},
   "outputs": [
    {
     "name": "stdout",
     "output_type": "stream",
     "text": [
      "******************************\n",
      "Hello\n",
      "******************************\n"
     ]
    }
   ],
   "source": [
    "def star(func):\n",
    "    def inner(*args, **kwargs):\n",
    "        print('*'*30)\n",
    "        func(*args, **kwargs)\n",
    "        print('*'*30)\n",
    "    return inner\n",
    "\n",
    "@star\n",
    "def printer(msg):\n",
    "    print(msg)\n",
    "    \n",
    "printer('Hello')"
   ]
  },
  {
   "cell_type": "code",
   "execution_count": 72,
   "id": "d52b5a40",
   "metadata": {},
   "outputs": [
    {
     "name": "stdout",
     "output_type": "stream",
     "text": [
      "&&&&&&&&&&&&&&&&&&&&&&&&&&&&&&\n",
      "Hello\n",
      "&&&&&&&&&&&&&&&&&&&&&&&&&&&&&&\n"
     ]
    }
   ],
   "source": [
    "def star(func):\n",
    "    def inner(*args, **kwargs):\n",
    "        print(args[1]*30)\n",
    "        func(*args, **kwargs)\n",
    "        print(args[1]*30)\n",
    "    return inner\n",
    "\n",
    "@star\n",
    "def printer(msg, mark):\n",
    "    print(msg)\n",
    "    \n",
    "printer('Hello','&')"
   ]
  },
  {
   "cell_type": "code",
   "execution_count": null,
   "id": "54cad403",
   "metadata": {},
   "outputs": [],
   "source": []
  },
  {
   "cell_type": "markdown",
   "id": "d3e9a315",
   "metadata": {},
   "source": [
    "# Module and Project"
   ]
  },
  {
   "cell_type": "markdown",
   "id": "a93df3c1",
   "metadata": {},
   "source": [
    "## Module\n",
    "어떤 대상의 부분 혹은 조각 \n",
    "\n",
    "(예) 레고 블록, 벽돌, 자동차 부품들\n",
    "\n",
    "- 프로그램에서는 작은 프로그램 조각들, 모듈들을 모아서 하나의 큰 프로그램을 개발함\n",
    "- 프로그램을 모듈화 시키면 다른 프로그램이 사용하기 쉬움\n",
    "    - 예) 카카오톡 게임을 위한 카카오톡 접속 모듈"
   ]
  },
  {
   "cell_type": "markdown",
   "id": "143fafc6",
   "metadata": {},
   "source": [
    "## 패키지\n",
    "모듈을 모아놓은 단위, 하나의 프로그램"
   ]
  },
  {
   "cell_type": "code",
   "execution_count": null,
   "id": "59641149",
   "metadata": {},
   "outputs": [],
   "source": []
  }
 ],
 "metadata": {
  "kernelspec": {
   "display_name": "Python 3 (ipykernel)",
   "language": "python",
   "name": "python3"
  },
  "language_info": {
   "codemirror_mode": {
    "name": "ipython",
    "version": 3
   },
   "file_extension": ".py",
   "mimetype": "text/x-python",
   "name": "python",
   "nbconvert_exporter": "python",
   "pygments_lexer": "ipython3",
   "version": "3.9.12"
  },
  "toc": {
   "base_numbering": 1,
   "nav_menu": {},
   "number_sections": false,
   "sideBar": true,
   "skip_h1_title": false,
   "title_cell": "Table of Contents",
   "title_sidebar": "Contents",
   "toc_cell": false,
   "toc_position": {},
   "toc_section_display": true,
   "toc_window_display": false
  }
 },
 "nbformat": 4,
 "nbformat_minor": 5
}
